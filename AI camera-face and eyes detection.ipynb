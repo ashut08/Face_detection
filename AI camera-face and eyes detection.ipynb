{
 "cells": [
  {
   "cell_type": "code",
   "execution_count": 6,
   "metadata": {},
   "outputs": [],
   "source": [
    "import cv2\n",
    "import numpy as np\n",
    "Face_model=cv2.CascadeClassifier('haarcascade_frontalface_default.xml')\n",
    "eye_model=cv2.CascadeClassifier('haarcascade_eye.xml')"
   ]
  },
  {
   "cell_type": "code",
   "execution_count": 9,
   "metadata": {},
   "outputs": [],
   "source": [
    "cap=cv2.VideoCapture(0)"
   ]
  },
  {
   "cell_type": "code",
   "execution_count": 8,
   "metadata": {},
   "outputs": [],
   "source": [
    "while True:\n",
    "    status,photo=cap.read()\n",
    "    face_corr=Face_model.detectMultiScale(photo)\n",
    "    eyes=eye_model.detectMultiScale(photo)\n",
    "    if len(face_corr)==0 and len(eyes):\n",
    "        pass\n",
    "                                           #pass mean nothing to do\n",
    "    else:\n",
    "        for (x,y,w,h) in face_corr:\n",
    "            photo=cv2.rectangle(photo,(x,y),(x+w,y+h),[0,255,0],5)\n",
    "        for (ex,ey,ew,eh) in eyes:\n",
    "             photo=cv2.rectangle(photo,(ex,ey),(ex+ew,ey+eh),(0,127,255),2) \n",
    "        cv2.imshow('hi',photo)\n",
    "        if cv2.waitKey(10)==13:\n",
    "            break\n",
    "\n",
    "cv2.destroyAllWindows()\n",
    " "
   ]
  },
  {
   "cell_type": "code",
   "execution_count": null,
   "metadata": {},
   "outputs": [],
   "source": [
    "face_corr=Face_model.detectMultiScale(photo)"
   ]
  },
  {
   "cell_type": "code",
   "execution_count": null,
   "metadata": {},
   "outputs": [],
   "source": [
    "len(face_corr)"
   ]
  },
  {
   "cell_type": "code",
   "execution_count": null,
   "metadata": {},
   "outputs": [],
   "source": []
  }
 ],
 "metadata": {
  "kernelspec": {
   "display_name": "Python 3",
   "language": "python",
   "name": "python3"
  },
  "language_info": {
   "codemirror_mode": {
    "name": "ipython",
    "version": 3
   },
   "file_extension": ".py",
   "mimetype": "text/x-python",
   "name": "python",
   "nbconvert_exporter": "python",
   "pygments_lexer": "ipython3",
   "version": "3.7.4"
  }
 },
 "nbformat": 4,
 "nbformat_minor": 2
}
